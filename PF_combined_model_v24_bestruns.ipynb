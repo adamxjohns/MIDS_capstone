{
 "cells": [
  {
   "cell_type": "markdown",
   "metadata": {
    "id": "BvE-hF6yV3-k"
   },
   "source": [
    "# Pulmonary Fibrosis - Predicting Progression from Baseline CT Scans and Patient Characteristics"
   ]
  },
  {
   "cell_type": "markdown",
   "metadata": {},
   "source": [
    "## Combined Model V21 unmasked images new CNN"
   ]
  },
  {
   "cell_type": "code",
   "execution_count": 39,
   "metadata": {},
   "outputs": [],
   "source": [
    "import os\n",
    "import cv2\n",
    "import pydicom\n",
    "import pylibjpeg\n",
    "import gdcm\n",
    "import pandas as pd\n",
    "import numpy as np \n",
    "import tensorflow as tf \n",
    "import matplotlib.pyplot as plt \n",
    "import random\n",
    "import math\n",
    "from tqdm.notebook import tqdm\n",
    "from tensorflow.keras.layers import (\n",
    "    Dense, Dropout, Activation, Flatten, Input, BatchNormalization, GlobalAveragePooling2D, Add, Conv2D, MaxPooling2D, AveragePooling2D, \n",
    "    LeakyReLU, Concatenate \n",
    ") \n",
    "from sklearn.model_selection import train_test_split, KFold\n",
    "from sklearn.metrics import mean_absolute_error\n",
    "from sklearn import preprocessing\n",
    "\n",
    "from sklearn.preprocessing import MinMaxScaler\n",
    "from tensorflow.keras import Model\n",
    "from tensorflow.keras.utils import Sequence\n",
    "import tensorflow.keras.applications as tfa\n",
    "\n",
    "from tensorflow.keras.optimizers import Nadam\n",
    "import seaborn as sns\n",
    "from PIL import Image\n",
    "from tensorflow.keras import models\n",
    "from tensorflow.keras import layers\n",
    "from tensorflow.keras.models import Sequential\n",
    "from tensorflow.keras.utils import Sequence\n",
    "\n",
    "from tensorflow.keras.utils import to_categorical\n",
    "from tensorflow.keras.optimizers import Adam\n",
    "from tensorflow.keras.optimizers import Adadelta\n",
    "from tensorflow.keras.callbacks import EarlyStopping\n",
    "\n",
    "from numpy import loadtxt\n",
    "from tensorflow.keras.models import load_model\n",
    "\n",
    "from tensorflow.keras.layers import concatenate\n",
    "\n",
    "from scipy import stats\n",
    "import seaborn as sns\n",
    "\n",
    "import itertools\n",
    "\n",
    "def seed_everything(seed=2020):\n",
    "    random.seed(seed)\n",
    "    os.environ['PYTHONHASHSEED'] = str(seed)\n",
    "    np.random.seed(seed)\n",
    "    tf.random.set_seed(seed)\n",
    "    \n",
    "seed_everything(42)"
   ]
  },
  {
   "cell_type": "code",
   "execution_count": 2,
   "metadata": {},
   "outputs": [],
   "source": [
    "#Uncomment this code for training on a multi-GPU VM\n",
    "#mirrored_strategy = tf.distribute.MirroredStrategy()"
   ]
  },
  {
   "cell_type": "code",
   "execution_count": 3,
   "metadata": {},
   "outputs": [],
   "source": [
    "BATCH_SIZE = 8\n",
    "SAVE_BEST = True\n",
    "MODEL_CLASS = 'b5'\n",
    "EPOCHS=30"
   ]
  },
  {
   "cell_type": "markdown",
   "metadata": {
    "id": "C_HeqxHKZ3Jf"
   },
   "source": [
    "# Preparing the data that will fit the models #\n",
    "We have created a separated notebook for EDA of tabular data and images. Here we show the functions and classes that allow us to extract the data that will go into the models."
   ]
  },
  {
   "cell_type": "code",
   "execution_count": 4,
   "metadata": {
    "colab": {
     "base_uri": "https://localhost:8080/"
    },
    "id": "4PglYXJ9Y4Et",
    "outputId": "0a923c8c-dc5e-449d-a2ef-041046bab4c1"
   },
   "outputs": [],
   "source": [
    "#read the tabular data from train.csv\n",
    "df_import = pd.read_csv('./train.csv')\n"
   ]
  },
  {
   "cell_type": "markdown",
   "metadata": {},
   "source": [
    "### Calculate output value (Least Squares Slope of FVC) for all patients\n"
   ]
  },
  {
   "cell_type": "code",
   "execution_count": 5,
   "metadata": {},
   "outputs": [],
   "source": [
    "def create_output(df):\n",
    "\n",
    "    #Create containers to store the data \n",
    "    target = pd.DataFrame(columns=['Patient', 'Slope']) # dataframe with target output \n",
    "\n",
    "    #Calculate slope for each patient in the train set\n",
    "    for p in df.Patient.unique():\n",
    "        #subsample the training set\n",
    "        sub = df[df.Patient == p]\n",
    "        #get the FVC for the p-patient\n",
    "        fvc = sub.FVC.values\n",
    "        #get the Weeks for the p-patient\n",
    "        weeks = sub.Weeks.values\n",
    "\n",
    "        #calculate the slope using linar regression\n",
    "        slope, intercept, r_value, p_value, std_err = stats.linregress(weeks, fvc)\n",
    "\n",
    "        #fill out dictionaries with corresponding data\n",
    "        target = target.append({'Patient' : p, 'Slope' : slope}, ignore_index = True)\n",
    "        \n",
    "    return target"
   ]
  },
  {
   "cell_type": "code",
   "execution_count": 6,
   "metadata": {},
   "outputs": [],
   "source": [
    "target = create_output(df_import)"
   ]
  },
  {
   "cell_type": "markdown",
   "metadata": {},
   "source": [
    "### Scale the output variable"
   ]
  },
  {
   "cell_type": "code",
   "execution_count": 7,
   "metadata": {},
   "outputs": [],
   "source": [
    "slope=target.Slope.values.copy()\n",
    "slope = slope.reshape(-1, 1)\n",
    "slope_scaler = MinMaxScaler()\n",
    "scaled_slope = slope_scaler.fit_transform(slope)"
   ]
  },
  {
   "cell_type": "markdown",
   "metadata": {},
   "source": [
    "### Process Input Dataframe to Generate Baseline Tabular Data for Each Patient"
   ]
  },
  {
   "cell_type": "code",
   "execution_count": 8,
   "metadata": {},
   "outputs": [],
   "source": [
    "tabular = pd.DataFrame(columns =['Patient', 'FVC', 'Percent', 'Age', 'Sex', 'SS1', 'SS2'])\n",
    "\n",
    "for p in df_import.Patient.unique():\n",
    "    \n",
    "    sub=df_import[df_import.Patient ==p]\n",
    "    \n",
    "    f = sub.FVC.values[0]\n",
    "    pct = sub.Percent.values[0]\n",
    "    a = sub.Age.values[0]\n",
    "    s = sub.Sex.values[0]\n",
    "    ss = sub.SmokingStatus.values[0]\n",
    "    \n",
    "    #encode the categorical variables\n",
    "    \n",
    "    if s == 'male':\n",
    "        s_enc = 0\n",
    "    else:\n",
    "        s_enc = 1\n",
    "    \n",
    "    if ss == 'Never smoked':\n",
    "        #encode as 0,0\n",
    "        ss_1 = 0\n",
    "        ss_2 = 0\n",
    "    elif ss == 'Ex-smoker':\n",
    "        #encode as 1, 1\n",
    "        ss_1 = 1\n",
    "        ss_2 = 1\n",
    "    elif ss == 'Currently smokes':\n",
    "        #encode as 0,1\n",
    "        ss_1 = 0\n",
    "        ss_2 = 1\n",
    "\n",
    "    \n",
    "    tabular = tabular.append({'Patient': p, 'FVC': f, 'Percent': pct, 'Age': a, 'Sex': s_enc, 'SS1': ss_1, 'SS2': ss_2}, ignore_index=True)"
   ]
  },
  {
   "cell_type": "markdown",
   "metadata": {},
   "source": [
    "### Scale the tabular values"
   ]
  },
  {
   "cell_type": "code",
   "execution_count": 9,
   "metadata": {},
   "outputs": [],
   "source": [
    "\n",
    "fvc = tabular.FVC.values.reshape(-1, 1)\n",
    "pct = tabular.Percent.values.reshape(-1, 1)\n",
    "age = tabular.Age.values.reshape(-1, 1)\n",
    "\n",
    "fvc_scaler = MinMaxScaler()\n",
    "pct_scaler = MinMaxScaler()\n",
    "age_scaler = MinMaxScaler()\n",
    "\n",
    "fvc_scaled = fvc_scaler.fit_transform(fvc)\n",
    "pct_scaled = pct_scaler.fit_transform(pct)\n",
    "age_scaled = age_scaler.fit_transform(age)\n",
    "\n",
    "sex = tabular.Sex.values.reshape(-1, 1)\n",
    "ss1 = tabular.SS1.values.reshape(-1, 1)\n",
    "ss2 = tabular.SS2.values.reshape(-1, 1)"
   ]
  },
  {
   "cell_type": "markdown",
   "metadata": {},
   "source": [
    "### Recombine processed data back into Pandas before holdback"
   ]
  },
  {
   "cell_type": "code",
   "execution_count": 10,
   "metadata": {},
   "outputs": [],
   "source": [
    "\n",
    "df_processed = pd.DataFrame()\n",
    "df_processed['Patient'] = df_import.Patient.unique()\n",
    "df_processed['Target'] = scaled_slope\n",
    "df_processed['FVC']= fvc_scaled\n",
    "df_processed['PCT'] = pct_scaled\n",
    "df_processed['Age'] = age_scaled\n",
    "df_processed['Sex'] = sex\n",
    "df_processed['SS1'] = ss1\n",
    "df_processed['SS2'] = ss2\n"
   ]
  },
  {
   "cell_type": "markdown",
   "metadata": {},
   "source": [
    "### Make dictionaries for train test data selection"
   ]
  },
  {
   "cell_type": "code",
   "execution_count": 11,
   "metadata": {},
   "outputs": [],
   "source": [
    "target={}\n",
    "TAB = {}\n",
    "for p in df_processed.Patient.unique():\n",
    "    sub = df_processed[df_processed.Patient == p]\n",
    "    target[p] = sub.Target.values[0]\n",
    "    \n",
    "    vector = [sub.FVC.values[0]]\n",
    "    vector.append(sub.PCT.values[0])\n",
    "    vector.append(sub.Age.values[0])\n",
    "    vector.append(sub.Sex.values[0])\n",
    "    vector.append(sub.SS1.values[0])\n",
    "    vector.append(sub.SS2.values[0])\n",
    "    vector = np.array(vector)\n",
    "    \n",
    "    TAB[p] = vector"
   ]
  },
  {
   "cell_type": "markdown",
   "metadata": {},
   "source": [
    "### Select some patients to hold back to assess model performance"
   ]
  },
  {
   "cell_type": "code",
   "execution_count": 12,
   "metadata": {},
   "outputs": [],
   "source": [
    "#get the full list of patient IDs\n",
    "patient_ID = df_processed.Patient.unique()"
   ]
  },
  {
   "cell_type": "code",
   "execution_count": 13,
   "metadata": {},
   "outputs": [],
   "source": [
    "#split the remaining patient IDs into train and test \n",
    "split = train_test_split(patient_ID, test_size=0.25, random_state=42)\n",
    "\n",
    "(train_ID, test_ID) = split"
   ]
  },
  {
   "cell_type": "markdown",
   "metadata": {},
   "source": [
    "### Image Processing"
   ]
  },
  {
   "cell_type": "markdown",
   "metadata": {},
   "source": [
    "Process dicom images into format that CNN can use"
   ]
  },
  {
   "cell_type": "code",
   "execution_count": 14,
   "metadata": {
    "id": "WiRYuMFJgfMD"
   },
   "outputs": [],
   "source": [
    "#Function to process images\n",
    "def get_img(path):\n",
    "    \"\"\"This function receives a path as an input,\n",
    "    and outputs a resized CT scan image that was\n",
    "    also transformed into Hounsfield units. The information \n",
    "    needed to transform the voxels is included in the\n",
    "    metadata contained in each CT scan\"\"\"\n",
    "\n",
    "    pd = pydicom.dcmread(path)\n",
    "    r = cv2.resize((pd.pixel_array - pd.RescaleIntercept) / (pd.RescaleSlope * 1000), (512, 512))\n",
    "\n",
    "    return r"
   ]
  },
  {
   "cell_type": "markdown",
   "metadata": {},
   "source": [
    "Load the masked images (alternate approach)"
   ]
  },
  {
   "cell_type": "code",
   "execution_count": 15,
   "metadata": {},
   "outputs": [],
   "source": [
    "def get_masked_img(path):\n",
    "    \"\"\"This function receives a path as an input,\n",
    "    and outputs a resized CT scan image that was\n",
    "    also transformed into Hounsfield units. The information \n",
    "    needed to transform the voxels is included in the\n",
    "    metadata contained in each CT scan\"\"\"\n",
    "    i = np.load(path)\n",
    "    return i"
   ]
  },
  {
   "cell_type": "markdown",
   "metadata": {},
   "source": [
    "Sample images for each patient and create tables of images combined with target output and tabular data (can be used to sample n_images for each patient or train on all available images)"
   ]
  },
  {
   "cell_type": "code",
   "execution_count": 16,
   "metadata": {},
   "outputs": [],
   "source": [
    "def process_images(patient_IDs, target, TAB, flag='sample', n_images=40):\n",
    "    \n",
    "    Target = []\n",
    "    tab = []\n",
    "    image = []\n",
    "    \n",
    "    df_data={}\n",
    "    for p in patient_IDs:\n",
    "        df_data[p] = os.listdir(f'./train/{p}/')\n",
    "        \n",
    "        if flag=='all':\n",
    "    \n",
    "            for item in df_data[p]:\n",
    "                img = get_img(f\"./train/{p}/{item}\") #apply function to process the images\n",
    "                image.append(img) #append the image to the list\n",
    "                Target.append(target[p]) #append target output for the patient\n",
    "                tab.append(TAB[p]) #append tabular data for the patient\n",
    "        \n",
    "        if flag=='sample':\n",
    "            for n in range(0, n_images):\n",
    "                i = np.random.choice(df_data[p], size = 1)[0] #select a random image from the patient directory\n",
    "                img = get_img(f\"./train/{p}/{i}\") #apply function to process the images\n",
    "                image.append(img) #append the image to the list\n",
    "                Target.append(target[p]) #append target output for the patient\n",
    "                tab.append(TAB[p]) #append tabular data for the patient\n",
    "            \n",
    "    image, Target, tab = np.array(image), np.array(Target), np.array(tab)\n",
    "    image = np.expand_dims(image, axis = -1)\n",
    "    \n",
    "    return Target, tab, image"
   ]
  },
  {
   "cell_type": "code",
   "execution_count": 17,
   "metadata": {},
   "outputs": [],
   "source": [
    "def process_masked_images(patient_IDs, target, TAB, flag='sample', n_images=40):\n",
    "    \n",
    "    Target = []\n",
    "    tab = []\n",
    "    image = []\n",
    "    \n",
    "    df_data={}\n",
    "    for p in patient_IDs:\n",
    "        df_data[p] = os.listdir(f'./train_masked/{p}/')\n",
    "        \n",
    "        if flag=='all':\n",
    "    \n",
    "            for item in df_data[p]:\n",
    "                img = get_masked_img(f\"./train_masked/{p}/{item}\") #apply function to process the images\n",
    "                image.append(img) #append the image to the list\n",
    "                Target.append(target[p]) #append target output for the patient\n",
    "                tab.append(TAB[p]) #append tabular data for the patient\n",
    "        \n",
    "        if flag=='sample':\n",
    "            for n in range(0, n_images):\n",
    "                i = np.random.choice(df_data[p], size = 1)[0] #select a random image from the patient directory\n",
    "                img = get_masked_img(f\"./train_masked/{p}/{i}\") #apply function to process the images\n",
    "                image.append(img) #append the image to the list\n",
    "                Target.append(target[p]) #append target output for the patient\n",
    "                tab.append(TAB[p]) #append tabular data for the patient\n",
    "            \n",
    "    image, Target, tab = np.array(image), np.array(Target), np.array(tab)\n",
    "    image = np.expand_dims(image, axis = -1)\n",
    "    \n",
    "    return Target, tab, image"
   ]
  },
  {
   "cell_type": "code",
   "execution_count": 18,
   "metadata": {},
   "outputs": [],
   "source": [
    "class image_data(Sequence):\n",
    "    BAD_ID = ['ID00011637202177653955184', 'ID00052637202186188008618']\n",
    "    def __init__(self, keys, a, tab, batch_size=BATCH_SIZE):\n",
    "        self.keys = [k for k in keys if k not in self.BAD_ID]\n",
    "        self.a = a\n",
    "        self.tab = tab\n",
    "        self.batch_size = batch_size\n",
    "        \n",
    "        self.train_data = {}\n",
    "        for p in df_import.Patient.unique():\n",
    "            self.train_data[p] = os.listdir(f'train/{p}/')\n",
    "    \n",
    "    def __len__(self):\n",
    "        return 1000\n",
    "    \n",
    "    def __getitem__(self, idx):\n",
    "        x = []\n",
    "        a, tab = [], [] \n",
    "        keys = np.random.choice(self.keys, size = self.batch_size)\n",
    "        for k in keys:\n",
    "            try:\n",
    "                i = np.random.choice(self.train_data[k], size=1)[0]\n",
    "                img = get_img(f'train/{k}/{i}')\n",
    "                x.append(img)\n",
    "                a.append(self.a[k])\n",
    "                tab.append(self.tab[k])\n",
    "            except:\n",
    "                print(k, i)\n",
    "       \n",
    "        x,a,tab = np.array(x), np.array(a), np.array(tab)\n",
    "        x = np.expand_dims(x, axis=-1)\n",
    "        return [x], a"
   ]
  },
  {
   "cell_type": "code",
   "execution_count": 19,
   "metadata": {},
   "outputs": [],
   "source": [
    "class tab_data(Sequence):\n",
    "    BAD_ID = ['ID00011637202177653955184', 'ID00052637202186188008618']\n",
    "    def __init__(self, keys, a, tab, batch_size=BATCH_SIZE):\n",
    "        self.keys = [k for k in keys if k not in self.BAD_ID]\n",
    "        self.a = a\n",
    "        self.tab = tab\n",
    "        self.batch_size = batch_size\n",
    "        \n",
    "        self.train_data = {}\n",
    "        for p in df_import.Patient.unique():\n",
    "            self.train_data[p] = os.listdir(f'train/{p}/')\n",
    "    \n",
    "    def __len__(self):\n",
    "        return 1000\n",
    "    \n",
    "    def __getitem__(self, idx):\n",
    "        x = []\n",
    "        a, tab = [], [] \n",
    "        keys = np.random.choice(self.keys, size = self.batch_size)\n",
    "        for k in keys:\n",
    "            try:\n",
    "                i = np.random.choice(self.train_data[k], size=1)[0]\n",
    "                img = get_img(f'train/{k}/{i}')\n",
    "                x.append(img)\n",
    "                a.append(self.a[k])\n",
    "                tab.append(self.tab[k])\n",
    "            except:\n",
    "                print(k, i)\n",
    "       \n",
    "        x,a,tab = np.array(x), np.array(a), np.array(tab)\n",
    "        x = np.expand_dims(x, axis=-1)\n",
    "        return [tab], a"
   ]
  },
  {
   "cell_type": "code",
   "execution_count": 20,
   "metadata": {},
   "outputs": [],
   "source": [
    "class combined_data(Sequence):\n",
    "    BAD_ID = ['ID00011637202177653955184', 'ID00052637202186188008618']\n",
    "    def __init__(self, keys, a, tab, batch_size=BATCH_SIZE):\n",
    "        self.keys = [k for k in keys if k not in self.BAD_ID]\n",
    "        self.a = a\n",
    "        self.tab = tab\n",
    "        self.batch_size = batch_size\n",
    "        \n",
    "        self.train_data = {}\n",
    "        for p in df_import.Patient.unique():\n",
    "            self.train_data[p] = os.listdir(f'train/{p}/')\n",
    "    \n",
    "    def __len__(self):\n",
    "        return 1000\n",
    "    \n",
    "    def __getitem__(self, idx):\n",
    "        x = []\n",
    "        a, tab = [], [] \n",
    "        keys = np.random.choice(self.keys, size = self.batch_size)\n",
    "        for k in keys:\n",
    "            try:\n",
    "                i = np.random.choice(self.train_data[k], size=1)[0]\n",
    "                img = get_img(f'train/{k}/{i}')\n",
    "                x.append(img)\n",
    "                a.append(self.a[k])\n",
    "                tab.append(self.tab[k])\n",
    "            except:\n",
    "                print(k, i)\n",
    "       \n",
    "        x,a,tab = np.array(x), np.array(a), np.array(tab)\n",
    "        x = np.expand_dims(x, axis=-1)\n",
    "        return [x, tab], a"
   ]
  },
  {
   "cell_type": "markdown",
   "metadata": {},
   "source": [
    "## Model Result Evaluation Functions"
   ]
  },
  {
   "cell_type": "markdown",
   "metadata": {},
   "source": [
    "### Predict the slope for patient based on mean of that patient's scans (n_images) - more useful for inference on a given patient"
   ]
  },
  {
   "cell_type": "code",
   "execution_count": 21,
   "metadata": {},
   "outputs": [],
   "source": [
    "def compare_slope_per_pt(model_input, data_type, df_input = df_import, patient_IDs=test_ID, image_type = 'unmasked', target=target, TAB=TAB, slope_scaler=slope_scaler, n_images=24):\n",
    "    '''\n",
    "    df_input: held back data frame of patients from original sample\n",
    "    model_input: name of trained model for inference\n",
    "    data_type: type of data for prediction - either 'image' for CNN, 'text' for MLP, or 'combined' for combined\n",
    "    '''\n",
    "    q = 0.5\n",
    "\n",
    "    slopes = pd.DataFrame(columns=['Patient', 'Calculated_Slope', 'Lower_CI', 'Upper_CI', 'Predicted_Slope', 'Within_Range'])\n",
    "    \n",
    "    if image_type == 'unmasked':\n",
    "        img_dir = 'train'\n",
    "    if image_type == 'masked':\n",
    "        img_dir = 'train_masked'\n",
    "        \n",
    "    \n",
    "    df_data={}\n",
    "    \n",
    "    for p in patient_IDs:\n",
    "        #print(p)\n",
    "        a = []\n",
    "        \n",
    "        df_data[p] = os.listdir(f'./{img_dir}/{p}/')\n",
    "        #print(os.listdir(f'./train/{p}/'))\n",
    "\n",
    "        for n in range(0, n_images):\n",
    "            tab= []\n",
    "            img= []\n",
    "            \n",
    "            if data_type!='text':\n",
    "                i = np.random.choice(df_data[p], size = 1)[0] #select a random image from the patient directory\n",
    "                if image_type == 'unmasked':\n",
    "                    image = get_img(f\"./{img_dir}/{p}/{i}\") #apply function to process the images\n",
    "                if image_type == 'masked':\n",
    "                    image = get_masked_img(f\"./{img_dir}/{p}/{i}\") #apply function to process the images\n",
    "                    \n",
    "                img.append(image)\n",
    "            \n",
    "            #image = np.array(img)\n",
    "            img = np.expand_dims(img, axis = -1)\n",
    "            \n",
    "            tab.append(TAB[p])\n",
    "            tab = np.array(tab)\n",
    "\n",
    "            #Use the saved model to predict the linear decay of the patient\n",
    "            #Per the model, this is going to give us an estimated slope per patient\n",
    "\n",
    "            if data_type=='image':\n",
    "                _a = model_input.predict([img])\n",
    "                a.append(_a)\n",
    "\n",
    "            if data_type=='text':\n",
    "                _a = model_input.predict([tab])\n",
    "                a.append(_a)\n",
    "\n",
    "            if data_type=='combined':\n",
    "                _a = model_input.predict([img, tab])\n",
    "                a.append(_a)\n",
    "                \n",
    "\n",
    "        slope_p = np.mean(a)\n",
    "        \n",
    "        slope_p = slope_p.reshape(-1, 1)\n",
    "        \n",
    "        slope_p = slope_scaler.inverse_transform(slope_p)\n",
    "        \n",
    "        slope_p = slope_p[0][0]\n",
    "\n",
    "        #subsample the training set\n",
    "        sub = df_input[df_input.Patient == p]\n",
    "        #get the FVC for the p-patient\n",
    "        fvc = sub.FVC.values\n",
    "        #get the Weeks for the p-patient\n",
    "        weeks = sub.Weeks.values\n",
    "\n",
    "        #calculate the slope using linar regression\n",
    "        slope, intercept, r_value, p_value, std_err = stats.linregress(weeks, fvc)\n",
    "\n",
    "        slope_calc=slope\n",
    "        \n",
    "        CI = 2.58*std_err\n",
    "        \n",
    "        ci_1 = slope_calc + CI\n",
    "        \n",
    "        ci_2 = slope_calc - CI\n",
    "        \n",
    "        upper_CI = max(ci_1, ci_2)\n",
    "        \n",
    "        lower_CI = min(ci_1, ci_2)\n",
    "        \n",
    "        if lower_CI < slope_p < upper_CI:\n",
    "            compare = 'Yes'\n",
    "        else:\n",
    "            compare = 'No'\n",
    "        \n",
    "        slopes = slopes.append({'Patient' : p, 'Calculated_Slope' : slope_calc, 'Lower_CI' : lower_CI, 'Upper_CI': upper_CI, \n",
    "                                          'Predicted_Slope': slope_p, 'Within_Range': compare}, ignore_index = True) \n",
    "    \n",
    "    return slopes"
   ]
  },
  {
   "cell_type": "markdown",
   "metadata": {},
   "source": [
    "### Predict slope for each individual scan - more useful for troubleshooting/model tuning"
   ]
  },
  {
   "cell_type": "code",
   "execution_count": 22,
   "metadata": {},
   "outputs": [],
   "source": [
    "def compare_slope_per_img(model_input, data_type, df_input = df_import, patient_IDs=test_ID, image_type = 'unmasked', target=target, TAB=TAB, slope_scaler=slope_scaler, n_images=24):\n",
    "    '''\n",
    "    df_input: held back data frame of patients from original sample\n",
    "    model_input: name of trained model for inference\n",
    "    data_type: type of data for prediction - either 'image' for CNN, 'text' for MLP, or 'combined' for combined\n",
    "    '''\n",
    "    q = 0.5\n",
    "\n",
    "    slopes = pd.DataFrame(columns=['Patient', 'Calculated_Slope', 'Lower_CI', 'Upper_CI', 'Predicted_Slope', 'Within_Range'])\n",
    "    \n",
    "    df_data={}\n",
    "    \n",
    "    if image_type == 'unmasked':\n",
    "        img_dir = 'train'\n",
    "    if image_type == 'masked':\n",
    "        img_dir = 'train_masked'\n",
    "    \n",
    "    for p in patient_IDs:\n",
    "        #print(p)\n",
    "\n",
    "        \n",
    "        df_data[p] = os.listdir(f'./{img_dir}/{p}/')\n",
    "        #print(os.listdir(f'./train/{p}/'))\n",
    "        \n",
    "        #subsample the training set\n",
    "        sub = df_input[df_input.Patient == p]\n",
    "        #get the FVC for the p-patient\n",
    "        fvc = sub.FVC.values\n",
    "        #get the Weeks for the p-patient\n",
    "        weeks = sub.Weeks.values\n",
    "\n",
    "        #calculate the slope using linar regression\n",
    "        slope, intercept, r_value, p_value, std_err = stats.linregress(weeks, fvc)\n",
    "\n",
    "        slope_calc=slope\n",
    "        \n",
    "        CI = 2.58*std_err\n",
    "        \n",
    "        ci_1 = slope_calc + CI\n",
    "        \n",
    "        ci_2 = slope_calc - CI\n",
    "        \n",
    "        upper_CI = max(ci_1, ci_2)\n",
    "        lower_CI = min(ci_1, ci_2)\n",
    "\n",
    "        for n in range(0, n_images):\n",
    "            tab= []\n",
    "            img= []\n",
    "            \n",
    "            if data_type!='text':\n",
    "                i = np.random.choice(df_data[p], size = 1)[0] #select a random image from the patient directory\n",
    "                if image_type == 'unmasked':\n",
    "                    image = get_img(f\"./{img_dir}/{p}/{i}\") #apply function to process the images\n",
    "                if image_type == 'masked':\n",
    "                    image = get_masked_img(f\"./{img_dir}/{p}/{i}\") #apply function to process the images\n",
    "                img.append(image)\n",
    "            \n",
    "            img = np.expand_dims(img, axis = -1)\n",
    "            \n",
    "            tab.append(TAB[p])\n",
    "            tab = np.array(tab)\n",
    "\n",
    "            #Use the saved model to predict the linear decay of the patient\n",
    "            #Per the model, this is going to give us an estimated slope per patient\n",
    "\n",
    "            if data_type=='image':\n",
    "                _a = model_input.predict([img])\n",
    "\n",
    "            if data_type=='text':\n",
    "                _a = model_input.predict([tab])\n",
    "\n",
    "            if data_type=='combined':\n",
    "                _a = model_input.predict([tab, img])\n",
    "                \n",
    "            slope_p = _a\n",
    "                \n",
    "            slope_p = slope_p.reshape(-1, 1)\n",
    "            #print(slope_p)\n",
    "            slope_p = slope_scaler.inverse_transform(slope_p)\n",
    "            slope_p = slope_p[0][0]\n",
    "            #print(slope_p)\n",
    "\n",
    "\n",
    "            if lower_CI < slope_p < upper_CI:\n",
    "                compare = 'Yes'\n",
    "            else:\n",
    "                compare = 'No'\n",
    "\n",
    "            slopes = slopes.append({'Patient' : p, 'Calculated_Slope' : slope_calc, 'Lower_CI' : lower_CI, 'Upper_CI': upper_CI, \n",
    "                                              'Predicted_Slope': slope_p, 'Within_Range': compare}, ignore_index = True) \n",
    "\n",
    "    return slopes"
   ]
  },
  {
   "cell_type": "markdown",
   "metadata": {},
   "source": [
    "Return the mean values of the absolute error"
   ]
  },
  {
   "cell_type": "code",
   "execution_count": 23,
   "metadata": {},
   "outputs": [],
   "source": [
    "def prediction_scores(sub, slopes):\n",
    "\n",
    "    ave_abs_error_pred = sub.abs_error_pred.mean()\n",
    "    \n",
    "    ave_abs_error_calc = sub.abs_error_calc.mean()\n",
    "    \n",
    "    calc_vs_pred_mean = sub.calc_vs_pred.mean()\n",
    "    \n",
    "    total_in_CI = slopes.Within_Range[slopes.Within_Range=='Yes'].count()\n",
    "    \n",
    "    pct_in_CI = total_in_CI/len(slopes.Patient.unique())*100\n",
    "    \n",
    "    print('Least Squares Estimate Error')\n",
    "    print('Mean Absolute Error, Least Squares Estimated FVC vs. Actual: ', round(ave_abs_error_calc, 2))\n",
    "\n",
    "    print('')\n",
    "    print('Predicted vs Actual FVC Values')\n",
    "    print('MAE: ', round(ave_abs_error_pred, 2))\n",
    "    \n",
    "    print('')\n",
    "    print('Model Prediction vs Least Squares Line')\n",
    "    print('MAE ', round(calc_vs_pred_mean, 2))\n",
    "    \n",
    "    print('')\n",
    "    print('Number of predicted in Slopes Within 95% CI of Least Squares Estimate')\n",
    "    print(total_in_CI, 'correct', round(pct_in_CI, 1), '%')\n"
   ]
  },
  {
   "cell_type": "markdown",
   "metadata": {},
   "source": [
    "Calculate the total number of predicted slopes within the 95% CI"
   ]
  },
  {
   "cell_type": "code",
   "execution_count": 24,
   "metadata": {},
   "outputs": [],
   "source": [
    "def slope_scores(slopes):\n",
    "    \n",
    "    total_in_CI = slopes.Within_Range[slopes.Within_Range=='Yes'].count()\n",
    "    \n",
    "    pct_in_CI = total_in_CI/slopes.shape[0]*100\n",
    "\n",
    "    \n",
    "    print('')\n",
    "    print('Number of predicted in Slopes Within 95% CI of Least Squares Estimate')\n",
    "    print(total_in_CI, 'correct', round(pct_in_CI, 1), '%')"
   ]
  },
  {
   "cell_type": "markdown",
   "metadata": {},
   "source": [
    "### Graphical Output Functions"
   ]
  },
  {
   "cell_type": "markdown",
   "metadata": {},
   "source": [
    "Visualize training loss"
   ]
  },
  {
   "cell_type": "code",
   "execution_count": 25,
   "metadata": {},
   "outputs": [],
   "source": [
    "def model_graph(model, start=0):\n",
    "    mlp_mse = model.history['mse'][start:]\n",
    "    mlp_val_mse = model.history['val_mse'][start:]\n",
    "    mlp_loss = model.history['loss'][start:]\n",
    "    mlp_val_loss = model.history['val_loss'][start:]\n",
    "\n",
    "    epochs = range(1, len(mlp_mse) + 1)\n",
    "\n",
    "    plt.plot(epochs, mlp_mse, 'bo', label='Training mse')\n",
    "    plt.plot(epochs, mlp_val_mse, 'b', label='Validation mse')\n",
    "    plt.title('Training and validation Mean Squared Error')\n",
    "    plt.legend()\n",
    "\n",
    "    plt.figure()\n",
    "\n",
    "    plt.plot(epochs, mlp_loss, 'bo', label='Training loss')\n",
    "    plt.plot(epochs, mlp_val_loss, 'b', label='Validation loss')\n",
    "    plt.title('Training and validation loss (Mean Absolute Error)')\n",
    "    plt.legend()\n",
    "\n",
    "    plt.show()"
   ]
  },
  {
   "cell_type": "markdown",
   "metadata": {},
   "source": [
    "Comparison between actual and predicted FVC"
   ]
  },
  {
   "cell_type": "code",
   "execution_count": 26,
   "metadata": {},
   "outputs": [],
   "source": [
    " def fvc_plot(scores):\n",
    "    patient = scores.Patient.unique()\n",
    "    rows = int(len(patient)/4)\n",
    "    plt.figure(figsize = (20,rows*5))\n",
    "\n",
    "    counter = 1\n",
    "    for p in patient:\n",
    "        single_patient = scores[scores['Patient'] == p]\n",
    "        weeks = single_patient.Weeks\n",
    "        weeks = weeks.astype('float')\n",
    "        fvc = single_patient.FVC\n",
    "        fvc = fvc.astype('float')\n",
    "\n",
    "        ax = plt.subplot(rows, 4, counter)\n",
    "        sns.regplot(weeks, fvc, ci=95)\n",
    "\n",
    "        prediction = single_patient.FVC_prediction\n",
    "        plt.plot(weeks, prediction, label = \"Predicted\")\n",
    "        \n",
    "        plt.xlabel(\"Weeks\", fontsize = 10)\n",
    "        plt.ylabel(\"FVC\",  fontsize = 10)\n",
    "        plt.title(p)\n",
    "        counter+=1"
   ]
  },
  {
   "cell_type": "markdown",
   "metadata": {},
   "source": [
    "## Model Functions"
   ]
  },
  {
   "cell_type": "markdown",
   "metadata": {},
   "source": [
    "### 2D Convolutional Neural Net - CT Scans"
   ]
  },
  {
   "cell_type": "code",
   "execution_count": 27,
   "metadata": {},
   "outputs": [],
   "source": [
    "def create_cnn_new(filters=(16, 32, 64), regress=False):\n",
    "    # initialize the input shape and channel dimension, assuming\n",
    "    # TensorFlow/channels-last ordering\n",
    "    inputShape=(512, 512, 1)\n",
    "    chanDim = -1\n",
    "\n",
    "    # define the model input\n",
    "    inputs = Input(shape=inputShape)\n",
    "\n",
    "    # loop over the number of filters\n",
    "    for (i, f) in enumerate(filters):\n",
    "        # if this is the first CONV layer then set the input\n",
    "        # appropriately\n",
    "        if i == 0:\n",
    "            x = inputs\n",
    "\n",
    "        # CONV => RELU => BN => POOL\n",
    "        x = Conv2D(f, (3, 3), padding=\"same\")(x)\n",
    "        x = Activation(\"relu\")(x)\n",
    "        x = BatchNormalization(axis=chanDim)(x)\n",
    "        x = MaxPooling2D(pool_size=(2, 2))(x)\n",
    "\n",
    "    # flatten the volume, then FC => RELU => BN => DROPOUT\n",
    "    x = Flatten()(x)\n",
    "    x = Dense(16)(x)\n",
    "    x = Activation(\"relu\")(x)\n",
    "    x = BatchNormalization(axis=chanDim)(x)\n",
    "    x = Dropout(0.5)(x)\n",
    "\n",
    "    # apply another FC layer, this one to match the number of nodes\n",
    "    # coming out of the MLP\n",
    "    x = Dense(4)(x)\n",
    "    x = Activation(\"relu\")(x)\n",
    "\n",
    "    # check to see if the regression node should be added\n",
    "    if regress:\n",
    "        x = Dense(1, activation=\"linear\")(x)\n",
    "\n",
    "    # construct the CNN\n",
    "    model = Model(inputs, x)\n",
    "\n",
    "    # return the CNN\n",
    "    return model"
   ]
  },
  {
   "cell_type": "markdown",
   "metadata": {},
   "source": [
    "### Multi-layer perceptron - Tabular Data"
   ]
  },
  {
   "cell_type": "code",
   "execution_count": 28,
   "metadata": {},
   "outputs": [],
   "source": [
    "def create_mlp(dim, regress=False):\n",
    "    # define our MLP network\n",
    "    model = Sequential()\n",
    "    model.add(Dense(8, input_dim=dim, activation=\"relu\"))\n",
    "    model.add(Dense(4, activation=\"relu\"))\n",
    "\n",
    "    # check to see if the regression node should be added\n",
    "    if regress:\n",
    "        model.add(Dense(1, activation=\"linear\"))\n",
    "\n",
    "    # return our model\n",
    "    return model"
   ]
  },
  {
   "cell_type": "markdown",
   "metadata": {
    "id": "Q1m_noaDs0Rs"
   },
   "source": [
    "## Regression with CT Scans via 2D Convolutional Neural Net"
   ]
  },
  {
   "cell_type": "markdown",
   "metadata": {
    "id": "X5OM8xY8s4VN"
   },
   "source": [
    "We will use a convolutional neural network. Although we are using images, we are trying to predict a continous variable. Thus, we want the CNN to solve a regression problem."
   ]
  },
  {
   "cell_type": "markdown",
   "metadata": {},
   "source": [
    "### Best Run"
   ]
  },
  {
   "cell_type": "code",
   "execution_count": 51,
   "metadata": {},
   "outputs": [
    {
     "name": "stdout",
     "output_type": "stream",
     "text": [
      "Model: \"functional_15\"\n",
      "_________________________________________________________________\n",
      "Layer (type)                 Output Shape              Param #   \n",
      "=================================================================\n",
      "input_8 (InputLayer)         [(None, 512, 512, 1)]     0         \n",
      "_________________________________________________________________\n",
      "conv2d_21 (Conv2D)           (None, 512, 512, 16)      160       \n",
      "_________________________________________________________________\n",
      "activation_35 (Activation)   (None, 512, 512, 16)      0         \n",
      "_________________________________________________________________\n",
      "batch_normalization_28 (Batc (None, 512, 512, 16)      64        \n",
      "_________________________________________________________________\n",
      "max_pooling2d_21 (MaxPooling (None, 256, 256, 16)      0         \n",
      "_________________________________________________________________\n",
      "conv2d_22 (Conv2D)           (None, 256, 256, 32)      4640      \n",
      "_________________________________________________________________\n",
      "activation_36 (Activation)   (None, 256, 256, 32)      0         \n",
      "_________________________________________________________________\n",
      "batch_normalization_29 (Batc (None, 256, 256, 32)      128       \n",
      "_________________________________________________________________\n",
      "max_pooling2d_22 (MaxPooling (None, 128, 128, 32)      0         \n",
      "_________________________________________________________________\n",
      "conv2d_23 (Conv2D)           (None, 128, 128, 64)      18496     \n",
      "_________________________________________________________________\n",
      "activation_37 (Activation)   (None, 128, 128, 64)      0         \n",
      "_________________________________________________________________\n",
      "batch_normalization_30 (Batc (None, 128, 128, 64)      256       \n",
      "_________________________________________________________________\n",
      "max_pooling2d_23 (MaxPooling (None, 64, 64, 64)        0         \n",
      "_________________________________________________________________\n",
      "flatten_7 (Flatten)          (None, 262144)            0         \n",
      "_________________________________________________________________\n",
      "dense_21 (Dense)             (None, 16)                4194320   \n",
      "_________________________________________________________________\n",
      "activation_38 (Activation)   (None, 16)                0         \n",
      "_________________________________________________________________\n",
      "batch_normalization_31 (Batc (None, 16)                64        \n",
      "_________________________________________________________________\n",
      "dropout_7 (Dropout)          (None, 16)                0         \n",
      "_________________________________________________________________\n",
      "dense_22 (Dense)             (None, 4)                 68        \n",
      "_________________________________________________________________\n",
      "activation_39 (Activation)   (None, 4)                 0         \n",
      "_________________________________________________________________\n",
      "dense_23 (Dense)             (None, 1)                 5         \n",
      "=================================================================\n",
      "Total params: 4,218,201\n",
      "Trainable params: 4,217,945\n",
      "Non-trainable params: 256\n",
      "_________________________________________________________________\n",
      "Epoch 1/40\n",
      "499/500 [============================>.] - ETA: 0s - loss: 0.4468 - mse: 0.3222\n",
      "Epoch 00001: val_loss improved from inf to 0.17818, saving model to ./CNN/CNN40.h5\n",
      "500/500 [==============================] - 25s 49ms/step - loss: 0.4466 - mse: 0.3219 - val_loss: 0.1782 - val_mse: 0.0502\n",
      "Epoch 2/40\n",
      "500/500 [==============================] - ETA: 0s - loss: 0.3095 - mse: 0.1559\n",
      "Epoch 00002: val_loss did not improve from 0.17818\n",
      "500/500 [==============================] - 24s 49ms/step - loss: 0.3095 - mse: 0.1559 - val_loss: 0.1833 - val_mse: 0.0502\n",
      "Epoch 3/40\n",
      "499/500 [============================>.] - ETA: 0s - loss: 0.2581 - mse: 0.1060\n",
      "Epoch 00003: val_loss improved from 0.17818 to 0.14020, saving model to ./CNN/CNN40.h5\n",
      "500/500 [==============================] - 24s 48ms/step - loss: 0.2581 - mse: 0.1060 - val_loss: 0.1402 - val_mse: 0.0423\n",
      "Epoch 4/40\n",
      "499/500 [============================>.] - ETA: 0s - loss: 0.2124 - mse: 0.0721\n",
      "Epoch 00004: val_loss improved from 0.14020 to 0.12622, saving model to ./CNN/CNN40.h5\n",
      "500/500 [==============================] - 24s 48ms/step - loss: 0.2126 - mse: 0.0722 - val_loss: 0.1262 - val_mse: 0.0304\n",
      "Epoch 5/40\n",
      "499/500 [============================>.] - ETA: 0s - loss: 0.1734 - mse: 0.0480\n",
      "Epoch 00005: val_loss improved from 0.12622 to 0.12441, saving model to ./CNN/CNN40.h5\n",
      "500/500 [==============================] - 24s 49ms/step - loss: 0.1734 - mse: 0.0480 - val_loss: 0.1244 - val_mse: 0.0330\n",
      "Epoch 6/40\n",
      "499/500 [============================>.] - ETA: 0s - loss: 0.1482 - mse: 0.0351\n",
      "Epoch 00006: val_loss did not improve from 0.12441\n",
      "500/500 [==============================] - 24s 49ms/step - loss: 0.1482 - mse: 0.0351 - val_loss: 0.1265 - val_mse: 0.0315\n",
      "Epoch 7/40\n",
      "499/500 [============================>.] - ETA: 0s - loss: 0.1326 - mse: 0.0283\n",
      "Epoch 00007: val_loss did not improve from 0.12441\n",
      "500/500 [==============================] - 24s 48ms/step - loss: 0.1326 - mse: 0.0282 - val_loss: 0.1418 - val_mse: 0.0342\n",
      "Epoch 8/40\n",
      "499/500 [============================>.] - ETA: 0s - loss: 0.1155 - mse: 0.0221\n",
      "Epoch 00008: val_loss did not improve from 0.12441\n",
      "500/500 [==============================] - 24s 48ms/step - loss: 0.1155 - mse: 0.0221 - val_loss: 0.1260 - val_mse: 0.0316\n",
      "Epoch 9/40\n",
      "499/500 [============================>.] - ETA: 0s - loss: 0.1025 - mse: 0.0177\n",
      "Epoch 00009: val_loss improved from 0.12441 to 0.11716, saving model to ./CNN/CNN40.h5\n",
      "500/500 [==============================] - 25s 49ms/step - loss: 0.1025 - mse: 0.0177 - val_loss: 0.1172 - val_mse: 0.0307\n",
      "Epoch 10/40\n",
      "499/500 [============================>.] - ETA: 0s - loss: 0.0935 - mse: 0.0153\n",
      "Epoch 00010: val_loss did not improve from 0.11716\n",
      "500/500 [==============================] - 25s 49ms/step - loss: 0.0936 - mse: 0.0153 - val_loss: 0.1213 - val_mse: 0.0304\n",
      "Epoch 11/40\n",
      "499/500 [============================>.] - ETA: 0s - loss: 0.0846 - mse: 0.0131\n",
      "Epoch 00011: val_loss improved from 0.11716 to 0.11376, saving model to ./CNN/CNN40.h5\n",
      "500/500 [==============================] - 25s 49ms/step - loss: 0.0846 - mse: 0.0131 - val_loss: 0.1138 - val_mse: 0.0297\n",
      "Epoch 12/40\n",
      "499/500 [============================>.] - ETA: 0s - loss: 0.0823 - mse: 0.0126\n",
      "Epoch 00012: val_loss did not improve from 0.11376\n",
      "500/500 [==============================] - 25s 49ms/step - loss: 0.0822 - mse: 0.0126 - val_loss: 0.1216 - val_mse: 0.0290\n",
      "Epoch 13/40\n",
      "499/500 [============================>.] - ETA: 0s - loss: 0.0812 - mse: 0.0127\n",
      "Epoch 00013: val_loss did not improve from 0.11376\n",
      "500/500 [==============================] - 25s 49ms/step - loss: 0.0812 - mse: 0.0127 - val_loss: 0.1205 - val_mse: 0.0303\n",
      "Epoch 14/40\n",
      "499/500 [============================>.] - ETA: 0s - loss: 0.0817 - mse: 0.0132\n",
      "Epoch 00014: val_loss did not improve from 0.11376\n",
      "500/500 [==============================] - 25s 49ms/step - loss: 0.0817 - mse: 0.0132 - val_loss: 0.1257 - val_mse: 0.0323\n",
      "Epoch 15/40\n",
      "499/500 [============================>.] - ETA: 0s - loss: 0.0786 - mse: 0.0125\n",
      "Epoch 00015: val_loss did not improve from 0.11376\n",
      "500/500 [==============================] - 25s 49ms/step - loss: 0.0786 - mse: 0.0125 - val_loss: 0.1282 - val_mse: 0.0328\n",
      "Epoch 16/40\n",
      "499/500 [============================>.] - ETA: 0s - loss: 0.0801 - mse: 0.0130\n",
      "Epoch 00016: ReduceLROnPlateau reducing learning rate to 9.999999747378752e-05.\n",
      "\n",
      "Epoch 00016: val_loss did not improve from 0.11376\n",
      "500/500 [==============================] - 24s 48ms/step - loss: 0.0801 - mse: 0.0130 - val_loss: 0.1331 - val_mse: 0.0353\n"
     ]
    }
   ],
   "source": [
    "# CNN Training - Tuning\n",
    "'./train.csv'\n",
    "EPOCHS = 40\n",
    "BATCH_SIZE = 8\n",
    "CNN = create_cnn_new(regress=True)\n",
    "callback = EarlyStopping(monitor='val_loss', patience=5)\n",
    "\n",
    "cpt = tf.keras.callbacks.ModelCheckpoint(\n",
    "    filepath=f'./CNN/CNN{EPOCHS}.h5',\n",
    "    monitor='val_loss', \n",
    "    verbose=1, \n",
    "    save_best_only=SAVE_BEST,\n",
    "    mode='auto'\n",
    ")\n",
    "\n",
    "rlp = tf.keras.callbacks.ReduceLROnPlateau(\n",
    "    monitor='val_loss', \n",
    "    factor=0.5,\n",
    "    patience=5, \n",
    "    verbose=1, \n",
    "    min_lr=1e-8\n",
    ")\n",
    "\n",
    "opt = Adam(lr = 0.0002)\n",
    "CNN.compile(loss='mae',\n",
    "              optimizer=opt,\n",
    "              metrics=['mse'])\n",
    "\n",
    "CNN.summary()\n",
    "\n",
    "CNN_history = []\n",
    "\n",
    "epochs=EPOCHS\n",
    "CNN_fit = CNN.fit(image_data(keys=train_ID, \n",
    "                               a = target, \n",
    "                               tab = TAB), \n",
    "                    steps_per_epoch = 500,\n",
    "                    validation_data=image_data(keys=test_ID, \n",
    "                               a = target, \n",
    "                               tab = TAB),\n",
    "                    validation_steps = 250, \n",
    "                    callbacks = [callback, rlp, cpt], \n",
    "                    epochs=EPOCHS)\n",
    "\n",
    "CNN_history.append(CNN_fit.history)"
   ]
  },
  {
   "cell_type": "code",
   "execution_count": 38,
   "metadata": {},
   "outputs": [
    {
     "data": {
      "image/png": "[encoded data removed]",
      "text/plain": [
       "<Figure size 432x288 with 1 Axes>"
      ]
     },
     "metadata": {
      "needs_background": "light"
     },
     "output_type": "display_data"
    },
    {
     "data": {
      "image/png": "[encoded data removed]",
      "text/plain": [
       "<Figure size 432x288 with 1 Axes>"
      ]
     },
     "metadata": {
      "needs_background": "light"
     },
     "output_type": "display_data"
    }
   ],
   "source": [
    "model_graph(CNN_fit, start=1)"
   ]
  },
  {
   "cell_type": "code",
   "execution_count": 52,
   "metadata": {},
   "outputs": [],
   "source": [
    "CNN = load_model('./CNN/CNN40.h5')\n",
    "# summarize model.\n",
    "#mlp_predict.summary()"
   ]
  },
  {
   "cell_type": "code",
   "execution_count": 53,
   "metadata": {},
   "outputs": [],
   "source": [
    "CNN_slope_per_pt = compare_slope_per_pt(CNN, 'image', image_type = 'unmasked', patient_IDs=test_ID, n_images=40)"
   ]
  },
  {
   "cell_type": "code",
   "execution_count": 54,
   "metadata": {},
   "outputs": [
    {
     "name": "stdout",
     "output_type": "stream",
     "text": [
      "\n",
      "Number of predicted in Slopes Within 95% CI of Least Squares Estimate\n",
      "31 correct 70.5 %\n"
     ]
    }
   ],
   "source": [
    "slope_scores(CNN_slope_per_pt)"
   ]
  },
  {
   "cell_type": "code",
   "execution_count": null,
   "metadata": {},
   "outputs": [],
   "source": [
    "CNN_slope_per_pt"
   ]
  },
  {
   "cell_type": "markdown",
   "metadata": {},
   "source": [
    "## Regression with Tabular Data via Multi-Layer Perceptron"
   ]
  },
  {
   "cell_type": "markdown",
   "metadata": {},
   "source": [
    "Model Building Function for Regression MLP"
   ]
  },
  {
   "cell_type": "markdown",
   "metadata": {},
   "source": [
    "### Running MLP with Sequence"
   ]
  },
  {
   "cell_type": "markdown",
   "metadata": {},
   "source": [
    "## Combined Model"
   ]
  },
  {
   "cell_type": "markdown",
   "metadata": {},
   "source": [
    "Run the combined model incoprorating multi-layer perceptron for tabular data and CNN for image data"
   ]
  },
  {
   "cell_type": "code",
   "execution_count": 71,
   "metadata": {},
   "outputs": [
    {
     "data": {
      "image/png": "[encoded data removed]",
      "text/plain": [
       "<Figure size 432x288 with 1 Axes>"
      ]
     },
     "metadata": {
      "needs_background": "light"
     },
     "output_type": "display_data"
    },
    {
     "data": {
      "image/png": "[encoded data removed]",
      "text/plain": [
       "<Figure size 432x288 with 1 Axes>"
      ]
     },
     "metadata": {
      "needs_background": "light"
     },
     "output_type": "display_data"
    }
   ],
   "source": [
    "model_graph(Combined_fit, start=0)"
   ]
  },
  {
   "cell_type": "code",
   "execution_count": 72,
   "metadata": {},
   "outputs": [],
   "source": [
    "Combined = load_model('./combined/combined40.h5')"
   ]
  },
  {
   "cell_type": "code",
   "execution_count": 73,
   "metadata": {},
   "outputs": [],
   "source": [
    "combined_slope_per_pt = compare_slope_per_pt(Combined, 'combined', patient_IDs=test_ID, n_images=40)"
   ]
  },
  {
   "cell_type": "code",
   "execution_count": 74,
   "metadata": {},
   "outputs": [
    {
     "name": "stdout",
     "output_type": "stream",
     "text": [
      "\n",
      "Number of predicted in Slopes Within 95% CI of Least Squares Estimate\n",
      "28 correct 63.6 %\n"
     ]
    }
   ],
   "source": [
    "slope_scores(combined_slope_per_pt)"
   ]
  },
  {
   "cell_type": "code",
   "execution_count": 66,
   "metadata": {},
   "outputs": [
    {
     "name": "stdout",
     "output_type": "stream",
     "text": [
      "Model: \"functional_119\"\n",
      "__________________________________________________________________________________________________\n",
      "Layer (type)                    Output Shape         Param #     Connected to                     \n",
      "==================================================================================================\n",
      "input_30 (InputLayer)           [(None, 512, 512, 1) 0                                            \n",
      "__________________________________________________________________________________________________\n",
      "conv2d_87 (Conv2D)              (None, 512, 512, 16) 160         input_30[0][0]                   \n",
      "__________________________________________________________________________________________________\n",
      "activation_145 (Activation)     (None, 512, 512, 16) 0           conv2d_87[0][0]                  \n",
      "__________________________________________________________________________________________________\n",
      "batch_normalization_116 (BatchN (None, 512, 512, 16) 64          activation_145[0][0]             \n",
      "__________________________________________________________________________________________________\n",
      "max_pooling2d_87 (MaxPooling2D) (None, 256, 256, 16) 0           batch_normalization_116[0][0]    \n",
      "__________________________________________________________________________________________________\n",
      "conv2d_88 (Conv2D)              (None, 256, 256, 32) 4640        max_pooling2d_87[0][0]           \n",
      "__________________________________________________________________________________________________\n",
      "activation_146 (Activation)     (None, 256, 256, 32) 0           conv2d_88[0][0]                  \n",
      "__________________________________________________________________________________________________\n",
      "batch_normalization_117 (BatchN (None, 256, 256, 32) 128         activation_146[0][0]             \n",
      "__________________________________________________________________________________________________\n",
      "max_pooling2d_88 (MaxPooling2D) (None, 128, 128, 32) 0           batch_normalization_117[0][0]    \n",
      "__________________________________________________________________________________________________\n",
      "conv2d_89 (Conv2D)              (None, 128, 128, 64) 18496       max_pooling2d_88[0][0]           \n",
      "__________________________________________________________________________________________________\n",
      "activation_147 (Activation)     (None, 128, 128, 64) 0           conv2d_89[0][0]                  \n",
      "__________________________________________________________________________________________________\n",
      "batch_normalization_118 (BatchN (None, 128, 128, 64) 256         activation_147[0][0]             \n",
      "__________________________________________________________________________________________________\n",
      "max_pooling2d_89 (MaxPooling2D) (None, 64, 64, 64)   0           batch_normalization_118[0][0]    \n",
      "__________________________________________________________________________________________________\n",
      "flatten_29 (Flatten)            (None, 262144)       0           max_pooling2d_89[0][0]           \n",
      "__________________________________________________________________________________________________\n",
      "dense_176 (Dense)               (None, 16)           4194320     flatten_29[0][0]                 \n",
      "__________________________________________________________________________________________________\n",
      "activation_148 (Activation)     (None, 16)           0           dense_176[0][0]                  \n",
      "__________________________________________________________________________________________________\n",
      "batch_normalization_119 (BatchN (None, 16)           64          activation_148[0][0]             \n",
      "__________________________________________________________________________________________________\n",
      "dropout_29 (Dropout)            (None, 16)           0           batch_normalization_119[0][0]    \n",
      "__________________________________________________________________________________________________\n",
      "dense_174_input (InputLayer)    [(None, 6)]          0                                            \n",
      "__________________________________________________________________________________________________\n",
      "dense_177 (Dense)               (None, 4)            68          dropout_29[0][0]                 \n",
      "__________________________________________________________________________________________________\n",
      "dense_174 (Dense)               (None, 8)            56          dense_174_input[0][0]            \n",
      "__________________________________________________________________________________________________\n",
      "activation_149 (Activation)     (None, 4)            0           dense_177[0][0]                  \n",
      "__________________________________________________________________________________________________\n",
      "dense_175 (Dense)               (None, 4)            36          dense_174[0][0]                  \n",
      "__________________________________________________________________________________________________\n",
      "concatenate_29 (Concatenate)    (None, 8)            0           activation_149[0][0]             \n",
      "                                                                 dense_175[0][0]                  \n",
      "__________________________________________________________________________________________________\n",
      "dense_178 (Dense)               (None, 4)            36          concatenate_29[0][0]             \n",
      "__________________________________________________________________________________________________\n",
      "dense_179 (Dense)               (None, 1)            5           dense_178[0][0]                  \n",
      "==================================================================================================\n",
      "Total params: 4,218,329\n",
      "Trainable params: 4,218,073\n",
      "Non-trainable params: 256\n",
      "__________________________________________________________________________________________________\n",
      "Epoch 1/100\n",
      "499/500 [============================>.] - ETA: 0s - loss: 0.2874 - mse: 0.1354\n",
      "Epoch 00001: val_loss improved from inf to 0.22046, saving model to ./combined/combined100.h5\n",
      "500/500 [==============================] - 25s 49ms/step - loss: 0.2873 - mse: 0.1354 - val_loss: 0.2205 - val_mse: 0.0701\n",
      "Epoch 2/100\n",
      "499/500 [============================>.] - ETA: 0s - loss: 0.2072 - mse: 0.0707\n",
      "Epoch 00002: val_loss improved from 0.22046 to 0.19037, saving model to ./combined/combined100.h5\n",
      "500/500 [==============================] - 25s 49ms/step - loss: 0.2073 - mse: 0.0708 - val_loss: 0.1904 - val_mse: 0.0557\n",
      "Epoch 3/100\n",
      "499/500 [============================>.] - ETA: 0s - loss: 0.1691 - mse: 0.0469\n",
      "Epoch 00003: val_loss improved from 0.19037 to 0.13848, saving model to ./combined/combined100.h5\n",
      "500/500 [==============================] - 25s 49ms/step - loss: 0.1691 - mse: 0.0469 - val_loss: 0.1385 - val_mse: 0.0359\n",
      "Epoch 4/100\n",
      "499/500 [============================>.] - ETA: 0s - loss: 0.1376 - mse: 0.0317\n",
      "Epoch 00004: val_loss improved from 0.13848 to 0.13679, saving model to ./combined/combined100.h5\n",
      "500/500 [==============================] - 25s 50ms/step - loss: 0.1376 - mse: 0.0317 - val_loss: 0.1368 - val_mse: 0.0321\n",
      "Epoch 5/100\n",
      "499/500 [============================>.] - ETA: 0s - loss: 0.1160 - mse: 0.0230\n",
      "Epoch 00005: val_loss improved from 0.13679 to 0.13427, saving model to ./combined/combined100.h5\n",
      "500/500 [==============================] - 25s 49ms/step - loss: 0.1160 - mse: 0.0230 - val_loss: 0.1343 - val_mse: 0.0334\n",
      "Epoch 6/100\n",
      "499/500 [============================>.] - ETA: 0s - loss: 0.1077 - mse: 0.0205\n",
      "Epoch 00006: val_loss improved from 0.13427 to 0.12136, saving model to ./combined/combined100.h5\n",
      "500/500 [==============================] - 25s 49ms/step - loss: 0.1077 - mse: 0.0205 - val_loss: 0.1214 - val_mse: 0.0295\n",
      "Epoch 7/100\n",
      "499/500 [============================>.] - ETA: 0s - loss: 0.1028 - mse: 0.0194\n",
      "Epoch 00007: val_loss improved from 0.12136 to 0.11689, saving model to ./combined/combined100.h5\n",
      "500/500 [==============================] - 25s 49ms/step - loss: 0.1028 - mse: 0.0194 - val_loss: 0.1169 - val_mse: 0.0282\n",
      "Epoch 8/100\n",
      "499/500 [============================>.] - ETA: 0s - loss: 0.0948 - mse: 0.0166\n",
      "Epoch 00008: val_loss did not improve from 0.11689\n",
      "500/500 [==============================] - 24s 49ms/step - loss: 0.0948 - mse: 0.0166 - val_loss: 0.1225 - val_mse: 0.0315\n",
      "Epoch 9/100\n",
      "499/500 [============================>.] - ETA: 0s - loss: 0.0936 - mse: 0.0164\n",
      "Epoch 00009: val_loss did not improve from 0.11689\n",
      "500/500 [==============================] - 24s 49ms/step - loss: 0.0937 - mse: 0.0165 - val_loss: 0.1201 - val_mse: 0.0306\n",
      "Epoch 10/100\n",
      "499/500 [============================>.] - ETA: 0s - loss: 0.0962 - mse: 0.0171\n",
      "Epoch 00010: val_loss did not improve from 0.11689\n",
      "500/500 [==============================] - 25s 49ms/step - loss: 0.0961 - mse: 0.0171 - val_loss: 0.1184 - val_mse: 0.0307\n",
      "Epoch 11/100\n",
      "499/500 [============================>.] - ETA: 0s - loss: 0.0912 - mse: 0.0157\n",
      "Epoch 00011: val_loss did not improve from 0.11689\n",
      "500/500 [==============================] - 25s 49ms/step - loss: 0.0912 - mse: 0.0157 - val_loss: 0.1210 - val_mse: 0.0306\n",
      "Epoch 12/100\n",
      "499/500 [============================>.] - ETA: 0s - loss: 0.0917 - mse: 0.0160\n",
      "Epoch 00012: val_loss did not improve from 0.11689\n",
      "500/500 [==============================] - 24s 49ms/step - loss: 0.0917 - mse: 0.0160 - val_loss: 0.1251 - val_mse: 0.0319\n",
      "Epoch 13/100\n",
      "500/500 [==============================] - ETA: 0s - loss: 0.0883 - mse: 0.0153\n",
      "Epoch 00013: val_loss did not improve from 0.11689\n",
      "500/500 [==============================] - 25s 49ms/step - loss: 0.0883 - mse: 0.0153 - val_loss: 0.1248 - val_mse: 0.0321\n",
      "Epoch 14/100\n",
      "499/500 [============================>.] - ETA: 0s - loss: 0.0890 - mse: 0.0158\n",
      "Epoch 00014: val_loss did not improve from 0.11689\n",
      "500/500 [==============================] - 24s 49ms/step - loss: 0.0891 - mse: 0.0158 - val_loss: 0.1178 - val_mse: 0.0294\n",
      "Epoch 15/100\n",
      "499/500 [============================>.] - ETA: 0s - loss: 0.0863 - mse: 0.0145\n",
      "Epoch 00015: val_loss did not improve from 0.11689\n",
      "500/500 [==============================] - 24s 49ms/step - loss: 0.0862 - mse: 0.0145 - val_loss: 0.1234 - val_mse: 0.0326\n",
      "Epoch 16/100\n",
      "499/500 [============================>.] - ETA: 0s - loss: 0.0874 - mse: 0.0147\n",
      "Epoch 00016: val_loss did not improve from 0.11689\n",
      "500/500 [==============================] - 24s 49ms/step - loss: 0.0873 - mse: 0.0146 - val_loss: 0.1199 - val_mse: 0.0302\n",
      "Epoch 17/100\n",
      "499/500 [============================>.] - ETA: 0s - loss: 0.0885 - mse: 0.0154\n",
      "Epoch 00017: val_loss did not improve from 0.11689\n",
      "500/500 [==============================] - 25s 49ms/step - loss: 0.0884 - mse: 0.0154 - val_loss: 0.1224 - val_mse: 0.0323\n"
     ]
    }
   ],
   "source": [
    "EPOCHS=100\n",
    "BATCH_SIZE = 32\n",
    "\n",
    "# def step_decay(epoch):\n",
    "#    initial_lrate = 0.0001\n",
    "#    drop = 0.5\n",
    "#    epochs_drop = 3\n",
    "#    lrate = initial_lrate * math.pow(drop,  \n",
    "#            math.floor((1+epoch)/epochs_drop))\n",
    "#    return lrate\n",
    "\n",
    "mlp = create_mlp(6, regress=False)\n",
    "cnn = create_cnn_new(regress=False)\n",
    "\n",
    "combinedInput = concatenate([cnn.output, mlp.output])\n",
    "\n",
    "x = Dense(4, activation=\"relu\")(combinedInput)\n",
    "x = Dense(1, activation=\"linear\")(x)\n",
    "\n",
    "Combined = Model(inputs=[cnn.input, mlp.input], outputs=x)\n",
    "\n",
    "opt = Adam(lr=0.0002)\n",
    "\n",
    "callback = EarlyStopping(monitor='val_loss', patience=10)\n",
    "\n",
    "cpt = tf.keras.callbacks.ModelCheckpoint(\n",
    "    filepath=f'./combined/combined{EPOCHS}.h5',\n",
    "    monitor='val_loss', \n",
    "    verbose=1, \n",
    "    save_best_only=SAVE_BEST,\n",
    "    mode='auto')\n",
    "\n",
    "lrate = tf.keras.callbacks.LearningRateScheduler(step_decay)\n",
    "\n",
    "\n",
    "Combined.compile(loss='mae', optimizer=opt, metrics=['mse'])\n",
    "\n",
    "Combined.summary()\n",
    "\n",
    "model_history = []\n",
    "\n",
    "Combined_fit = Combined.fit(combined_data(keys=train_ID, \n",
    "                               a = target, \n",
    "                               tab = TAB), \n",
    "                    steps_per_epoch = 500,\n",
    "                    validation_data=combined_data(keys=test_ID, \n",
    "                               a = target, \n",
    "                               tab = TAB),\n",
    "                    validation_steps = 250, \n",
    "                    callbacks = [callback, cpt], \n",
    "                    epochs=EPOCHS)\n",
    "\n",
    "model_history.append(Combined_fit.history)"
   ]
  },
  {
   "cell_type": "code",
   "execution_count": 67,
   "metadata": {},
   "outputs": [
    {
     "data": {
      "image/png": "[encoded data removed]",
      "text/plain": [
       "<Figure size 432x288 with 1 Axes>"
      ]
     },
     "metadata": {
      "needs_background": "light"
     },
     "output_type": "display_data"
    },
    {
     "data": {
      "image/png": "[encoded data removed]",
      "text/plain": [
       "<Figure size 432x288 with 1 Axes>"
      ]
     },
     "metadata": {
      "needs_background": "light"
     },
     "output_type": "display_data"
    }
   ],
   "source": [
    "model_graph(Combined_fit, start=0)"
   ]
  },
  {
   "cell_type": "code",
   "execution_count": 68,
   "metadata": {},
   "outputs": [],
   "source": [
    "Combined = load_model('./combined/combined100.h5')"
   ]
  },
  {
   "cell_type": "code",
   "execution_count": 69,
   "metadata": {},
   "outputs": [],
   "source": [
    "combined_slope_per_pt = compare_slope_per_pt(Combined, 'combined', patient_IDs=test_ID, n_images=40)"
   ]
  },
  {
   "cell_type": "code",
   "execution_count": 70,
   "metadata": {},
   "outputs": [
    {
     "name": "stdout",
     "output_type": "stream",
     "text": [
      "\n",
      "Number of predicted in Slopes Within 95% CI of Least Squares Estimate\n",
      "28 correct 63.6 %\n"
     ]
    }
   ],
   "source": [
    "slope_scores(combined_slope_per_pt)"
   ]
  },
  {
   "cell_type": "code",
   "execution_count": 77,
   "metadata": {},
   "outputs": [
    {
     "name": "stdout",
     "output_type": "stream",
     "text": [
      "Model: \"functional_147\"\n",
      "__________________________________________________________________________________________________\n",
      "Layer (type)                    Output Shape         Param #     Connected to                     \n",
      "==================================================================================================\n",
      "input_37 (InputLayer)           [(None, 512, 512, 1) 0                                            \n",
      "__________________________________________________________________________________________________\n",
      "conv2d_108 (Conv2D)             (None, 512, 512, 16) 160         input_37[0][0]                   \n",
      "__________________________________________________________________________________________________\n",
      "activation_180 (Activation)     (None, 512, 512, 16) 0           conv2d_108[0][0]                 \n",
      "__________________________________________________________________________________________________\n",
      "batch_normalization_144 (BatchN (None, 512, 512, 16) 64          activation_180[0][0]             \n",
      "__________________________________________________________________________________________________\n",
      "max_pooling2d_108 (MaxPooling2D (None, 256, 256, 16) 0           batch_normalization_144[0][0]    \n",
      "__________________________________________________________________________________________________\n",
      "conv2d_109 (Conv2D)             (None, 256, 256, 32) 4640        max_pooling2d_108[0][0]          \n",
      "__________________________________________________________________________________________________\n",
      "activation_181 (Activation)     (None, 256, 256, 32) 0           conv2d_109[0][0]                 \n",
      "__________________________________________________________________________________________________\n",
      "batch_normalization_145 (BatchN (None, 256, 256, 32) 128         activation_181[0][0]             \n",
      "__________________________________________________________________________________________________\n",
      "max_pooling2d_109 (MaxPooling2D (None, 128, 128, 32) 0           batch_normalization_145[0][0]    \n",
      "__________________________________________________________________________________________________\n",
      "conv2d_110 (Conv2D)             (None, 128, 128, 64) 18496       max_pooling2d_109[0][0]          \n",
      "__________________________________________________________________________________________________\n",
      "activation_182 (Activation)     (None, 128, 128, 64) 0           conv2d_110[0][0]                 \n",
      "__________________________________________________________________________________________________\n",
      "batch_normalization_146 (BatchN (None, 128, 128, 64) 256         activation_182[0][0]             \n",
      "__________________________________________________________________________________________________\n",
      "max_pooling2d_110 (MaxPooling2D (None, 64, 64, 64)   0           batch_normalization_146[0][0]    \n",
      "__________________________________________________________________________________________________\n",
      "flatten_36 (Flatten)            (None, 262144)       0           max_pooling2d_110[0][0]          \n",
      "__________________________________________________________________________________________________\n",
      "dense_218 (Dense)               (None, 16)           4194320     flatten_36[0][0]                 \n",
      "__________________________________________________________________________________________________\n",
      "activation_183 (Activation)     (None, 16)           0           dense_218[0][0]                  \n",
      "__________________________________________________________________________________________________\n",
      "batch_normalization_147 (BatchN (None, 16)           64          activation_183[0][0]             \n",
      "__________________________________________________________________________________________________\n",
      "dropout_36 (Dropout)            (None, 16)           0           batch_normalization_147[0][0]    \n",
      "__________________________________________________________________________________________________\n",
      "dense_216_input (InputLayer)    [(None, 6)]          0                                            \n",
      "__________________________________________________________________________________________________\n",
      "dense_219 (Dense)               (None, 4)            68          dropout_36[0][0]                 \n",
      "__________________________________________________________________________________________________\n",
      "dense_216 (Dense)               (None, 8)            56          dense_216_input[0][0]            \n",
      "__________________________________________________________________________________________________\n",
      "activation_184 (Activation)     (None, 4)            0           dense_219[0][0]                  \n",
      "__________________________________________________________________________________________________\n",
      "dense_217 (Dense)               (None, 4)            36          dense_216[0][0]                  \n",
      "__________________________________________________________________________________________________\n",
      "concatenate_36 (Concatenate)    (None, 8)            0           activation_184[0][0]             \n",
      "                                                                 dense_217[0][0]                  \n",
      "__________________________________________________________________________________________________\n",
      "dense_220 (Dense)               (None, 4)            36          concatenate_36[0][0]             \n",
      "__________________________________________________________________________________________________\n",
      "dense_221 (Dense)               (None, 1)            5           dense_220[0][0]                  \n",
      "==================================================================================================\n",
      "Total params: 4,218,329\n",
      "Trainable params: 4,218,073\n",
      "Non-trainable params: 256\n",
      "__________________________________________________________________________________________________\n",
      "Epoch 1/100\n",
      "499/500 [============================>.] - ETA: 0s - loss: 0.2834 - mse: 0.1737\n",
      "Epoch 00001: val_loss improved from inf to 0.16235, saving model to ./combined/combined100.h5\n",
      "500/500 [==============================] - 25s 49ms/step - loss: 0.2832 - mse: 0.1735 - val_loss: 0.1623 - val_mse: 0.0499\n",
      "Epoch 2/100\n",
      "499/500 [============================>.] - ETA: 0s - loss: 0.1735 - mse: 0.0593\n",
      "Epoch 00002: val_loss improved from 0.16235 to 0.13976, saving model to ./combined/combined100.h5\n",
      "500/500 [==============================] - 24s 49ms/step - loss: 0.1736 - mse: 0.0593 - val_loss: 0.1398 - val_mse: 0.0365\n",
      "Epoch 3/100\n",
      "499/500 [============================>.] - ETA: 0s - loss: 0.1350 - mse: 0.0332- ETA: 0s - loss: 0.1350 - mse: 0.0\n",
      "Epoch 00003: val_loss improved from 0.13976 to 0.12498, saving model to ./combined/combined100.h5\n",
      "500/500 [==============================] - 24s 49ms/step - loss: 0.1350 - mse: 0.0332 - val_loss: 0.1250 - val_mse: 0.0338\n",
      "Epoch 4/100\n",
      "499/500 [============================>.] - ETA: 0s - loss: 0.1195 - mse: 0.0255\n",
      "Epoch 00004: val_loss did not improve from 0.12498\n",
      "500/500 [==============================] - 25s 49ms/step - loss: 0.1195 - mse: 0.0255 - val_loss: 0.1282 - val_mse: 0.0356\n",
      "Epoch 5/100\n",
      "499/500 [============================>.] - ETA: 0s - loss: 0.1064 - mse: 0.0207\n",
      "Epoch 00005: val_loss did not improve from 0.12498\n",
      "500/500 [==============================] - 24s 49ms/step - loss: 0.1064 - mse: 0.0207 - val_loss: 0.1298 - val_mse: 0.0358\n",
      "Epoch 6/100\n",
      "499/500 [============================>.] - ETA: 0s - loss: 0.1016 - mse: 0.0186\n",
      "Epoch 00006: val_loss improved from 0.12498 to 0.11958, saving model to ./combined/combined100.h5\n",
      "500/500 [==============================] - 24s 49ms/step - loss: 0.1018 - mse: 0.0186 - val_loss: 0.1196 - val_mse: 0.0300\n",
      "Epoch 7/100\n",
      "499/500 [============================>.] - ETA: 0s - loss: 0.0924 - mse: 0.0154\n",
      "Epoch 00007: val_loss did not improve from 0.11958\n",
      "500/500 [==============================] - 24s 49ms/step - loss: 0.0923 - mse: 0.0154 - val_loss: 0.1225 - val_mse: 0.0318\n",
      "Epoch 8/100\n",
      "499/500 [============================>.] - ETA: 0s - loss: 0.0983 - mse: 0.0174\n",
      "Epoch 00008: val_loss did not improve from 0.11958\n",
      "500/500 [==============================] - 24s 49ms/step - loss: 0.0984 - mse: 0.0174 - val_loss: 0.1285 - val_mse: 0.0365\n",
      "Epoch 9/100\n",
      "499/500 [============================>.] - ETA: 0s - loss: 0.0973 - mse: 0.0171\n",
      "Epoch 00009: ReduceLROnPlateau reducing learning rate to 0.00015999999595806003.\n",
      "\n",
      "Epoch 00009: val_loss did not improve from 0.11958\n",
      "500/500 [==============================] - 24s 49ms/step - loss: 0.0973 - mse: 0.0171 - val_loss: 0.1228 - val_mse: 0.0328\n",
      "Epoch 10/100\n",
      "499/500 [============================>.] - ETA: 0s - loss: 0.0903 - mse: 0.0150\n",
      "Epoch 00010: val_loss improved from 0.11958 to 0.10968, saving model to ./combined/combined100.h5\n",
      "500/500 [==============================] - 25s 49ms/step - loss: 0.0903 - mse: 0.0150 - val_loss: 0.1097 - val_mse: 0.0268\n",
      "Epoch 11/100\n",
      "499/500 [============================>.] - ETA: 0s - loss: 0.0877 - mse: 0.0145\n",
      "Epoch 00011: val_loss did not improve from 0.10968\n",
      "500/500 [==============================] - 24s 49ms/step - loss: 0.0878 - mse: 0.0146 - val_loss: 0.1114 - val_mse: 0.0266\n",
      "Epoch 12/100\n",
      "499/500 [============================>.] - ETA: 0s - loss: 0.0868 - mse: 0.0137\n",
      "Epoch 00012: val_loss did not improve from 0.10968\n",
      "500/500 [==============================] - 25s 50ms/step - loss: 0.0869 - mse: 0.0137 - val_loss: 0.1287 - val_mse: 0.0305\n",
      "Epoch 13/100\n",
      "499/500 [============================>.] - ETA: 0s - loss: 0.0834 - mse: 0.0131\n",
      "Epoch 00013: ReduceLROnPlateau reducing learning rate to 0.00012799999676644803.\n",
      "\n",
      "Epoch 00013: val_loss did not improve from 0.10968\n",
      "500/500 [==============================] - 24s 49ms/step - loss: 0.0835 - mse: 0.0131 - val_loss: 0.1312 - val_mse: 0.0334\n",
      "Epoch 14/100\n",
      "499/500 [============================>.] - ETA: 0s - loss: 0.0834 - mse: 0.0127\n",
      "Epoch 00014: val_loss did not improve from 0.10968\n",
      "500/500 [==============================] - 24s 49ms/step - loss: 0.0835 - mse: 0.0127 - val_loss: 0.1212 - val_mse: 0.0294\n",
      "Epoch 15/100\n",
      "499/500 [============================>.] - ETA: 0s - loss: 0.0856 - mse: 0.0133- ETA: 1s - \n",
      "Epoch 00015: val_loss did not improve from 0.10968\n",
      "500/500 [==============================] - 24s 49ms/step - loss: 0.0857 - mse: 0.0133 - val_loss: 0.1301 - val_mse: 0.0321\n",
      "Epoch 16/100\n",
      "499/500 [============================>.] - ETA: 0s - loss: 0.0846 - mse: 0.0136\n",
      "Epoch 00016: ReduceLROnPlateau reducing learning rate to 0.00010239999974146486.\n",
      "\n",
      "Epoch 00016: val_loss did not improve from 0.10968\n",
      "500/500 [==============================] - 24s 49ms/step - loss: 0.0846 - mse: 0.0136 - val_loss: 0.1349 - val_mse: 0.0370\n",
      "Epoch 17/100\n",
      "499/500 [============================>.] - ETA: 0s - loss: 0.0826 - mse: 0.0128\n",
      "Epoch 00017: val_loss did not improve from 0.10968\n",
      "500/500 [==============================] - 24s 49ms/step - loss: 0.0825 - mse: 0.0128 - val_loss: 0.1251 - val_mse: 0.0305\n",
      "Epoch 18/100\n",
      "499/500 [============================>.] - ETA: 0s - loss: 0.0830 - mse: 0.0132\n",
      "Epoch 00018: val_loss did not improve from 0.10968\n",
      "500/500 [==============================] - 24s 49ms/step - loss: 0.0829 - mse: 0.0131 - val_loss: 0.1255 - val_mse: 0.0299\n",
      "Epoch 19/100\n",
      "499/500 [============================>.] - ETA: 0s - loss: 0.0787 - mse: 0.0118\n",
      "Epoch 00019: ReduceLROnPlateau reducing learning rate to 8.192000095732511e-05.\n",
      "\n",
      "Epoch 00019: val_loss did not improve from 0.10968\n",
      "500/500 [==============================] - 24s 49ms/step - loss: 0.0787 - mse: 0.0118 - val_loss: 0.1316 - val_mse: 0.0338\n",
      "Epoch 20/100\n",
      "499/500 [============================>.] - ETA: 0s - loss: 0.0767 - mse: 0.0117\n",
      "Epoch 00020: val_loss did not improve from 0.10968\n",
      "500/500 [==============================] - 24s 49ms/step - loss: 0.0768 - mse: 0.0117 - val_loss: 0.1295 - val_mse: 0.0328\n"
     ]
    }
   ],
   "source": [
    "EPOCHS=100\n",
    "BATCH_SIZE = 24\n",
    "\n",
    "# def step_decay(epoch):\n",
    "#    initial_lrate = 0.0001\n",
    "#    drop = 0.5\n",
    "#    epochs_drop = 3\n",
    "#    lrate = initial_lrate * math.pow(drop,  \n",
    "#            math.floor((1+epoch)/epochs_drop))\n",
    "#    return lrate\n",
    "\n",
    "mlp = create_mlp(6, regress=False)\n",
    "cnn = create_cnn_new(regress=False)\n",
    "\n",
    "combinedInput = concatenate([cnn.output, mlp.output])\n",
    "\n",
    "x = Dense(4, activation=\"relu\")(combinedInput)\n",
    "x = Dense(1, activation=\"linear\")(x)\n",
    "\n",
    "Combined = Model(inputs=[cnn.input, mlp.input], outputs=x)\n",
    "\n",
    "opt = Adam(lr=0.0002)\n",
    "\n",
    "rlp = tf.keras.callbacks.ReduceLROnPlateau(\n",
    "    monitor='val_loss', \n",
    "    factor=0.8,\n",
    "    patience=3, \n",
    "    verbose=1, \n",
    "    min_lr=1e-8)\n",
    "\n",
    "callback = EarlyStopping(monitor='val_loss', patience=10)\n",
    "\n",
    "cpt = tf.keras.callbacks.ModelCheckpoint(\n",
    "    filepath=f'./combined/combined{EPOCHS}.h5',\n",
    "    monitor='val_loss', \n",
    "    verbose=1, \n",
    "    save_best_only=SAVE_BEST,\n",
    "    mode='auto')\n",
    "\n",
    "#lrate = tf.keras.callbacks.LearningRateScheduler(step_decay)\n",
    "\n",
    "\n",
    "Combined.compile(loss='mae', optimizer=opt, metrics=['mse'])\n",
    "\n",
    "Combined.summary()\n",
    "\n",
    "model_history = []\n",
    "\n",
    "Combined_fit = Combined.fit(combined_data(keys=train_ID, \n",
    "                               a = target, \n",
    "                               tab = TAB), \n",
    "                    steps_per_epoch = 500,\n",
    "                    validation_data=combined_data(keys=test_ID, \n",
    "                               a = target, \n",
    "                               tab = TAB),\n",
    "                    validation_steps = 250, \n",
    "                    callbacks = [callback, rlp, cpt], \n",
    "                    epochs=EPOCHS)\n",
    "\n",
    "model_history.append(Combined_fit.history)"
   ]
  },
  {
   "cell_type": "code",
   "execution_count": 78,
   "metadata": {},
   "outputs": [],
   "source": [
    "Combined = load_model('./combined/combined100.h5')"
   ]
  },
  {
   "cell_type": "code",
   "execution_count": 79,
   "metadata": {},
   "outputs": [],
   "source": [
    "combined_slope_per_pt = compare_slope_per_pt(Combined, 'combined', patient_IDs=test_ID, n_images=40)"
   ]
  },
  {
   "cell_type": "code",
   "execution_count": 80,
   "metadata": {},
   "outputs": [
    {
     "name": "stdout",
     "output_type": "stream",
     "text": [
      "\n",
      "Number of predicted in Slopes Within 95% CI of Least Squares Estimate\n",
      "29 correct 65.9 %\n"
     ]
    }
   ],
   "source": [
    "slope_scores(combined_slope_per_pt)"
   ]
  }
 ],
 "metadata": {
  "accelerator": "GPU",
  "colab": {
   "collapsed_sections": [
    "C_HeqxHKZ3Jf"
   ],
   "name": "Pulmonary Fibrosis -- Image-Only Model",
   "provenance": []
  },
  "kernelspec": {
   "display_name": "Environment (conda_tensorflow2_latest_p37)",
   "language": "python",
   "name": "conda_tensorflow2_latest_p37"
  },
  "language_info": {
   "codemirror_mode": {
    "name": "ipython",
    "version": 3
   },
   "file_extension": ".py",
   "mimetype": "text/x-python",
   "name": "python",
   "nbconvert_exporter": "python",
   "pygments_lexer": "ipython3",
   "version": "3.7.6"
  },
  "widgets": {
   "application/vnd.jupyter.widget-state+json": {
    "1467c9c4fbbd40feb378dfb0d76d3c45": {
     "model_module": "@jupyter-widgets/base",
     "model_name": "LayoutModel",
     "state": {
      "_model_module": "@jupyter-widgets/base",
      "_model_module_version": "1.2.0",
      "_model_name": "LayoutModel",
      "_view_count": null,
      "_view_module": "@jupyter-widgets/base",
      "_view_module_version": "1.2.0",
      "_view_name": "LayoutView",
      "align_content": null,
      "align_items": null,
      "align_self": null,
      "border": null,
      "bottom": null,
      "display": null,
      "flex": null,
      "flex_flow": null,
      "grid_area": null,
      "grid_auto_columns": null,
      "grid_auto_flow": null,
      "grid_auto_rows": null,
      "grid_column": null,
      "grid_gap": null,
      "grid_row": null,
      "grid_template_areas": null,
      "grid_template_columns": null,
      "grid_template_rows": null,
      "height": null,
      "justify_content": null,
      "justify_items": null,
      "left": null,
      "margin": null,
      "max_height": null,
      "max_width": null,
      "min_height": null,
      "min_width": null,
      "object_fit": null,
      "object_position": null,
      "order": null,
      "overflow": null,
      "overflow_x": null,
      "overflow_y": null,
      "padding": null,
      "right": null,
      "top": null,
      "visibility": null,
      "width": null
     }
    },
    "1dcffc4ff4e347cfa9352cc0ca099573": {
     "model_module": "@jupyter-widgets/controls",
     "model_name": "ProgressStyleModel",
     "state": {
      "_model_module": "@jupyter-widgets/controls",
      "_model_module_version": "1.5.0",
      "_model_name": "ProgressStyleModel",
      "_view_count": null,
      "_view_module": "@jupyter-widgets/base",
      "_view_module_version": "1.2.0",
      "_view_name": "StyleView",
      "bar_color": null,
      "description_width": "initial"
     }
    },
    "4f63b2e2613f4536a4a72895ff3e5b74": {
     "model_module": "@jupyter-widgets/base",
     "model_name": "LayoutModel",
     "state": {
      "_model_module": "@jupyter-widgets/base",
      "_model_module_version": "1.2.0",
      "_model_name": "LayoutModel",
      "_view_count": null,
      "_view_module": "@jupyter-widgets/base",
      "_view_module_version": "1.2.0",
      "_view_name": "LayoutView",
      "align_content": null,
      "align_items": null,
      "align_self": null,
      "border": null,
      "bottom": null,
      "display": null,
      "flex": null,
      "flex_flow": null,
      "grid_area": null,
      "grid_auto_columns": null,
      "grid_auto_flow": null,
      "grid_auto_rows": null,
      "grid_column": null,
      "grid_gap": null,
      "grid_row": null,
      "grid_template_areas": null,
      "grid_template_columns": null,
      "grid_template_rows": null,
      "height": null,
      "justify_content": null,
      "justify_items": null,
      "left": null,
      "margin": null,
      "max_height": null,
      "max_width": null,
      "min_height": null,
      "min_width": null,
      "object_fit": null,
      "object_position": null,
      "order": null,
      "overflow": null,
      "overflow_x": null,
      "overflow_y": null,
      "padding": null,
      "right": null,
      "top": null,
      "visibility": null,
      "width": null
     }
    },
    "c574bcca001247c8a07255a6d731cff7": {
     "model_module": "@jupyter-widgets/base",
     "model_name": "LayoutModel",
     "state": {
      "_model_module": "@jupyter-widgets/base",
      "_model_module_version": "1.2.0",
      "_model_name": "LayoutModel",
      "_view_count": null,
      "_view_module": "@jupyter-widgets/base",
      "_view_module_version": "1.2.0",
      "_view_name": "LayoutView",
      "align_content": null,
      "align_items": null,
      "align_self": null,
      "border": null,
      "bottom": null,
      "display": null,
      "flex": null,
      "flex_flow": null,
      "grid_area": null,
      "grid_auto_columns": null,
      "grid_auto_flow": null,
      "grid_auto_rows": null,
      "grid_column": null,
      "grid_gap": null,
      "grid_row": null,
      "grid_template_areas": null,
      "grid_template_columns": null,
      "grid_template_rows": null,
      "height": null,
      "justify_content": null,
      "justify_items": null,
      "left": null,
      "margin": null,
      "max_height": null,
      "max_width": null,
      "min_height": null,
      "min_width": null,
      "object_fit": null,
      "object_position": null,
      "order": null,
      "overflow": null,
      "overflow_x": null,
      "overflow_y": null,
      "padding": null,
      "right": null,
      "top": null,
      "visibility": null,
      "width": null
     }
    },
    "d890007a5f524a60a3662e938e686966": {
     "model_module": "@jupyter-widgets/controls",
     "model_name": "FloatProgressModel",
     "state": {
      "_dom_classes": [],
      "_model_module": "@jupyter-widgets/controls",
      "_model_module_version": "1.5.0",
      "_model_name": "FloatProgressModel",
      "_view_count": null,
      "_view_module": "@jupyter-widgets/controls",
      "_view_module_version": "1.5.0",
      "_view_name": "ProgressView",
      "bar_style": "success",
      "description": "",
      "description_tooltip": null,
      "layout": "IPY_MODEL_1467c9c4fbbd40feb378dfb0d76d3c45",
      "max": 1,
      "min": 0,
      "orientation": "horizontal",
      "style": "IPY_MODEL_1dcffc4ff4e347cfa9352cc0ca099573",
      "value": 1
     }
    },
    "db804af551da4445a15e3acb27d58143": {
     "model_module": "@jupyter-widgets/controls",
     "model_name": "HBoxModel",
     "state": {
      "_dom_classes": [],
      "_model_module": "@jupyter-widgets/controls",
      "_model_module_version": "1.5.0",
      "_model_name": "HBoxModel",
      "_view_count": null,
      "_view_module": "@jupyter-widgets/controls",
      "_view_module_version": "1.5.0",
      "_view_name": "HBoxView",
      "box_style": "",
      "children": [
       "IPY_MODEL_d890007a5f524a60a3662e938e686966",
       "IPY_MODEL_f0115546215d4a0aa6edecabc642d398"
      ],
      "layout": "IPY_MODEL_4f63b2e2613f4536a4a72895ff3e5b74"
     }
    },
    "f0115546215d4a0aa6edecabc642d398": {
     "model_module": "@jupyter-widgets/controls",
     "model_name": "HTMLModel",
     "state": {
      "_dom_classes": [],
      "_model_module": "@jupyter-widgets/controls",
      "_model_module_version": "1.5.0",
      "_model_name": "HTMLModel",
      "_view_count": null,
      "_view_module": "@jupyter-widgets/controls",
      "_view_module_version": "1.5.0",
      "_view_name": "HTMLView",
      "description": "",
      "description_tooltip": null,
      "layout": "IPY_MODEL_c574bcca001247c8a07255a6d731cff7",
      "placeholder": "​",
      "style": "IPY_MODEL_fb1b889685cd409ab1f069fea9248357",
      "value": " 176/? [00:32&lt;00:00,  5.38it/s]"
     }
    },
    "fb1b889685cd409ab1f069fea9248357": {
     "model_module": "@jupyter-widgets/controls",
     "model_name": "DescriptionStyleModel",
     "state": {
      "_model_module": "@jupyter-widgets/controls",
      "_model_module_version": "1.5.0",
      "_model_name": "DescriptionStyleModel",
      "_view_count": null,
      "_view_module": "@jupyter-widgets/base",
      "_view_module_version": "1.2.0",
      "_view_name": "StyleView",
      "description_width": ""
     }
    }
   }
  }
 },
 "nbformat": 4,
 "nbformat_minor": 4
}
